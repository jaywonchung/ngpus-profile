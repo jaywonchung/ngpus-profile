{
 "cells": [
  {
   "cell_type": "code",
   "execution_count": 50,
   "metadata": {},
   "outputs": [],
   "source": [
    "%matplotlib widget\n",
    "\n",
    "%load_ext autoreload\n",
    "%autoreload 1\n",
    "\n",
    "from pathlib import Path\n",
    "import re\n",
    "\n",
    "import numpy as np\n",
    "import pandas as pd\n",
    "from pandas.plotting import register_matplotlib_converters\n",
    "import matplotlib.pyplot as plt\n",
    "\n",
    "%aimport vis\n",
    "\n",
    "\n",
    "register_matplotlib_converters()"
   ]
  },
  {
   "cell_type": "markdown",
   "metadata": {},
   "source": [
    "Two runs of Auto-PyTorch with 20 budgets and 2 iterations"
   ]
  },
  {
   "cell_type": "code",
   "execution_count": 11,
   "metadata": {},
   "outputs": [
    {
     "data": {
      "application/vnd.jupyter.widget-view+json": {
       "model_id": "",
       "version_major": 2,
       "version_minor": 0
      },
      "text/plain": [
       "Canvas(toolbar=Toolbar(toolitems=[('Home', 'Reset original view', 'home', 'home'), ('Back', 'Back to previous …"
      ]
     },
     "metadata": {},
     "output_type": "display_data"
    }
   ],
   "source": [
    "df = pd.read_csv('log/2019-09-22T20:35:20/jobs.csv')\n",
    "# df = pd.read_csv('log/2019-09-23T10:57:58/jobs.csv', sep='\\t')\n",
    "df['StartTime'] = pd.to_datetime(df['Start Time'])\n",
    "df['EndTime'] = pd.to_datetime(df['End Time'])\n",
    "df['Duration'] = df.EndTime - df.StartTime\n",
    "df['Worker'] = pd.to_numeric(df.Worker)\n",
    "\n",
    "ax = vis.job_timeline(df.Worker, df.StartTime, df.EndTime)"
   ]
  },
  {
   "cell_type": "markdown",
   "metadata": {},
   "source": [
    "One run of hyperopt with 300 max eval"
   ]
  },
  {
   "cell_type": "code",
   "execution_count": 20,
   "metadata": {},
   "outputs": [
    {
     "data": {
      "application/vnd.jupyter.widget-view+json": {
       "model_id": "",
       "version_major": 2,
       "version_minor": 0
      },
      "text/plain": [
       "Canvas(toolbar=Toolbar(toolitems=[('Home', 'Reset original view', 'home', 'home'), ('Back', 'Back to previous …"
      ]
     },
     "metadata": {},
     "output_type": "display_data"
    },
    {
     "name": "stderr",
     "output_type": "stream",
     "text": [
      "No handles with labels found to put in legend.\n"
     ]
    },
    {
     "data": {
      "text/plain": [
       "<matplotlib.legend.Legend at 0x7f3c1d966d10>"
      ]
     },
     "execution_count": 20,
     "metadata": {},
     "output_type": "execute_result"
    }
   ],
   "source": [
    "total = pd.DataFrame()\n",
    "for node in range(1, 5):\n",
    "    df = pd.read_csv(f'log/2019-09-30T10:04:29/hyper{node}.csv', sep='\\t',\n",
    "                     names=['StartTime', 'EndTime', 'Node'])\n",
    "    total = total.append(df)\n",
    "total = total.reset_index(drop=True)\n",
    "total['Node'] = pd.to_numeric(total.Node)\n",
    "total['StartTime'] = pd.to_datetime(total.StartTime)\n",
    "total['EndTime'] = pd.to_datetime(total.EndTime)\n",
    "total = total.reset_index(drop=True)\n",
    "\n",
    "fig, ax = plt.subplots(figsize=(12, 12))\n",
    "ax = vis.job_timeline(total.Node, total.StartTime, total.EndTime, ax=ax)\n",
    "ax.legend()"
   ]
  },
  {
   "cell_type": "markdown",
   "metadata": {},
   "source": [
    "---\n",
    "\n",
    "One run of Auto-PyTorch with 200 budget and 10 iterations.\n",
    "\n",
    "It seems that the algorithm can finish earlier than max iterations"
   ]
  },
  {
   "cell_type": "code",
   "execution_count": 23,
   "metadata": {},
   "outputs": [],
   "source": [
    "total = pd.DataFrame()\n",
    "for node in range(1, 6):\n",
    "    df = pd.read_csv(f'log/2019-09-30T10:04:29/node{node}.csv', sep='\\t',\n",
    "                     names=['Iter', 'Unknown', 'JobId', 'StartTime', 'EndTime'])\n",
    "    df['Node'] = node\n",
    "    total = total.append(df)\n",
    "total['StartTime'] = pd.to_datetime(total.StartTime)\n",
    "total['EndTime'] = pd.to_datetime(total.EndTime)\n",
    "total = total.reset_index(drop=True)"
   ]
  },
  {
   "cell_type": "code",
   "execution_count": 51,
   "metadata": {
    "collapsed": true,
    "jupyter": {
     "outputs_hidden": true
    }
   },
   "outputs": [
    {
     "data": {
      "application/vnd.jupyter.widget-view+json": {
       "model_id": "285a15d8da9a4d10bfcb4b94863fa2ac",
       "version_major": 2,
       "version_minor": 0
      },
      "text/plain": [
       "Canvas(toolbar=Toolbar(toolitems=[('Home', 'Reset original view', 'home', 'home'), ('Back', 'Back to previous …"
      ]
     },
     "metadata": {},
     "output_type": "display_data"
    }
   ],
   "source": [
    "fig, ax = plt.subplots()\n",
    "vis.job_timeline(total.Node, total.StartTime, total.EndTime, groupby=total.Iter, label='Iter{key}', ax=ax)\n",
    "vis.figure_legend(fig, ncol=5)"
   ]
  },
  {
   "cell_type": "code",
   "execution_count": 61,
   "metadata": {},
   "outputs": [],
   "source": [
    "total['Duration'] = total.EndTime - total.StartTime\n",
    "total['Duration'] = total.Duration.astype('timedelta64[s]')"
   ]
  },
  {
   "cell_type": "code",
   "execution_count": 62,
   "metadata": {},
   "outputs": [
    {
     "data": {
      "text/plain": [
       "0         8.0\n",
       "1        19.0\n",
       "2         2.0\n",
       "3         3.0\n",
       "4         3.0\n",
       "        ...  \n",
       "369     594.0\n",
       "370     133.0\n",
       "371      53.0\n",
       "372    3403.0\n",
       "373      30.0\n",
       "Name: Duration, Length: 374, dtype: float64"
      ]
     },
     "execution_count": 62,
     "metadata": {},
     "output_type": "execute_result"
    }
   ],
   "source": [
    "total.Duration"
   ]
  },
  {
   "cell_type": "code",
   "execution_count": 75,
   "metadata": {},
   "outputs": [
    {
     "name": "stderr",
     "output_type": "stream",
     "text": [
      "/home/peifeng/.local/venvs/autopytorch/lib/python3.7/site-packages/ipykernel_launcher.py:1: RuntimeWarning: More than 20 figures have been opened. Figures created through the pyplot interface (`matplotlib.pyplot.figure`) are retained until explicitly closed and may consume too much memory. (To control this warning, see the rcParam `figure.max_open_warning`).\n",
      "  \"\"\"Entry point for launching an IPython kernel.\n"
     ]
    },
    {
     "data": {
      "application/vnd.jupyter.widget-view+json": {
       "model_id": "d2bb11f3f66b45dbae4e37af08572464",
       "version_major": 2,
       "version_minor": 0
      },
      "text/plain": [
       "Canvas(toolbar=Toolbar(toolitems=[('Home', 'Reset original view', 'home', 'home'), ('Back', 'Back to previous …"
      ]
     },
     "metadata": {},
     "output_type": "display_data"
    }
   ],
   "source": [
    "fig, axs = plt.subplots(nrows=3, ncols=3, sharex=True, constrained_layout=True)\n",
    "grouped = total.groupby('Iter')\n",
    "for ax, (it, grp) in zip(axs.flat, total.groupby('Iter')):\n",
    "    ax.hist(grp.Duration)\n",
    "    ax.set_title(f'Iter {it}')"
   ]
  },
  {
   "cell_type": "code",
   "execution_count": null,
   "metadata": {},
   "outputs": [],
   "source": []
  }
 ],
 "metadata": {
  "file_extension": ".py",
  "kernelspec": {
   "display_name": "Python 3 (autopytorch)",
   "language": "python",
   "name": "autopytorch"
  },
  "language_info": {
   "codemirror_mode": {
    "name": "ipython",
    "version": 3
   },
   "file_extension": ".py",
   "mimetype": "text/x-python",
   "name": "python",
   "nbconvert_exporter": "python",
   "pygments_lexer": "ipython3",
   "version": "3.7.4"
  },
  "mimetype": "text/x-python",
  "name": "python",
  "npconvert_exporter": "python",
  "pygments_lexer": "ipython3",
  "version": 3,
  "widgets": {
   "application/vnd.jupyter.widget-state+json": {
    "state": {},
    "version_major": 2,
    "version_minor": 0
   }
  }
 },
 "nbformat": 4,
 "nbformat_minor": 4
}
